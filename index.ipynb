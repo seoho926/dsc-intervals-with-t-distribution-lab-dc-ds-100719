{
 "cells": [
  {
   "cell_type": "markdown",
   "metadata": {},
   "source": [
    "# Confidence Intervals with T Distribution - Lab"
   ]
  },
  {
   "cell_type": "markdown",
   "metadata": {},
   "source": [
    "## Introduction\n",
    "\n",
    "In the previous lab, we saw that if we have the standard deviation for the population, we can use use $z$-score to calculate our confidence interval using the mean of sample means. \n",
    "\n",
    "If, on the other hand, the standard deviation of the population is not known (which is usually the case), you have to use the standard deviation of your sample as a stand-in when creating confidence intervals. Since the sample standard deviation is often different than that of the population, further potential errors are introduced to our confidence intervals. To account for this error, we use what's known as a t-critical value instead of the $z$-critical value.\n",
    "\n",
    "The t-critical value is drawn from what's known as a t-distribution.\n",
    "> A t-distribution  closely resembles the normal distribution but gets wider and wider as the sample size falls.\n",
    "\n",
    "<img src=\"images/new_t-distr-img.png\" width=\"500\">\n",
    "\n",
    "The t-distribution is available in `scipy.stats` with the nickname \"t\" so we can get t-critical values with `stats.t.ppf()`."
   ]
  },
  {
   "cell_type": "markdown",
   "metadata": {},
   "source": [
    "## Objectives\n",
    "You will be able to:\n",
    "\n",
    "* Calculate confidence intervals\n",
    "* Interpret confidence intervals in relation to true population parameters"
   ]
  },
  {
   "cell_type": "markdown",
   "metadata": {},
   "source": [
    "## Let's get started!"
   ]
  },
  {
   "cell_type": "code",
   "execution_count": 1,
   "metadata": {},
   "outputs": [],
   "source": [
    "# Import the necessary libraries\n",
    "import numpy as np\n",
    "import pandas as pd\n",
    "import scipy.stats as stats\n",
    "import matplotlib.pyplot as plt\n",
    "import random\n",
    "import math"
   ]
  },
  {
   "cell_type": "markdown",
   "metadata": {},
   "source": [
    "Let's investigate point estimates by generating a population of random age data collected at two different locations and then drawing a sample from it to estimate the mean:"
   ]
  },
  {
   "cell_type": "code",
   "execution_count": 2,
   "metadata": {},
   "outputs": [
    {
     "data": {
      "text/html": [
       "<div>\n",
       "<style scoped>\n",
       "    .dataframe tbody tr th:only-of-type {\n",
       "        vertical-align: middle;\n",
       "    }\n",
       "\n",
       "    .dataframe tbody tr th {\n",
       "        vertical-align: top;\n",
       "    }\n",
       "\n",
       "    .dataframe thead th {\n",
       "        text-align: right;\n",
       "    }\n",
       "</style>\n",
       "<table border=\"1\" class=\"dataframe\">\n",
       "  <thead>\n",
       "    <tr style=\"text-align: right;\">\n",
       "      <th></th>\n",
       "      <th>0</th>\n",
       "    </tr>\n",
       "  </thead>\n",
       "  <tbody>\n",
       "    <tr>\n",
       "      <th>count</th>\n",
       "      <td>20000.000000</td>\n",
       "    </tr>\n",
       "    <tr>\n",
       "      <th>mean</th>\n",
       "      <td>21.008578</td>\n",
       "    </tr>\n",
       "    <tr>\n",
       "      <th>std</th>\n",
       "      <td>3.671277</td>\n",
       "    </tr>\n",
       "    <tr>\n",
       "      <th>min</th>\n",
       "      <td>4.784588</td>\n",
       "    </tr>\n",
       "    <tr>\n",
       "      <th>25%</th>\n",
       "      <td>18.662256</td>\n",
       "    </tr>\n",
       "    <tr>\n",
       "      <th>50%</th>\n",
       "      <td>21.163276</td>\n",
       "    </tr>\n",
       "    <tr>\n",
       "      <th>75%</th>\n",
       "      <td>23.489438</td>\n",
       "    </tr>\n",
       "    <tr>\n",
       "      <th>max</th>\n",
       "      <td>36.140116</td>\n",
       "    </tr>\n",
       "  </tbody>\n",
       "</table>\n",
       "</div>"
      ],
      "text/plain": [
       "                  0\n",
       "count  20000.000000\n",
       "mean      21.008578\n",
       "std        3.671277\n",
       "min        4.784588\n",
       "25%       18.662256\n",
       "50%       21.163276\n",
       "75%       23.489438\n",
       "max       36.140116"
      ]
     },
     "execution_count": 2,
     "metadata": {},
     "output_type": "execute_result"
    },
    {
     "data": {
      "image/png": "[encoded data removed]",
      "text/plain": [
       "<Figure size 648x648 with 1 Axes>"
      ]
     },
     "metadata": {
      "needs_background": "light"
     },
     "output_type": "display_data"
    }
   ],
   "source": [
    "np.random.seed(20)\n",
    "population_ages1 = np.random.normal(20, 4, 10000) \n",
    "population_ages2 = np.random.normal(22, 3, 10000) \n",
    "population_ages = np.concatenate((population_ages1, population_ages2))\n",
    "\n",
    "pop_ages = pd.DataFrame(population_ages)\n",
    "pop_ages.hist(bins=100,range=(5,33),figsize=(9,9))\n",
    "pop_ages.describe()"
   ]
  },
  {
   "cell_type": "markdown",
   "metadata": {},
   "source": [
    "Let's take a new, smaller sample (of size smaller than 30) and calculate how much the sample mean differs from the population mean."
   ]
  },
  {
   "cell_type": "code",
   "execution_count": 3,
   "metadata": {},
   "outputs": [
    {
     "name": "stdout",
     "output_type": "stream",
     "text": [
      "Sample Mean: 19.870788629471857\n",
      "Mean Difference: 0    1.137789\n",
      "dtype: float64\n"
     ]
    }
   ],
   "source": [
    "np.random.seed(23)\n",
    "\n",
    "sample_size = 25\n",
    "sample = np.random.choice(population_ages, 25) # Take a random sample of size 25 from above population\n",
    "sample_mean = sample.mean()  # Calculate sample mean \n",
    "\n",
    "# Print sample mean and difference of sample and population mean \n",
    "print('Sample Mean:', sample_mean)\n",
    "print('Mean Difference:', pop_ages.mean() - sample_mean)\n",
    "# Sample Mean: 19.870788629471857\n",
    "# Mean Difference: 1.1377888781920937"
   ]
  },
  {
   "cell_type": "markdown",
   "metadata": {},
   "source": [
    "We can see that the sample mean differs from the population mean by 1.13 years. We can calculate a confidence interval without the population standard deviation, using the t-distribution using `stats.t.ppf(q, df)` function. This function takes in a value for the confidence level required (q) with \"degrees of freedom\" (df).\n",
    "\n",
    "> In this case, the number of degrees of freedom, `df`, is equal to the sample size minus 1, or `df = sample_size - 1`. \n",
    "\n"
   ]
  },
  {
   "cell_type": "code",
   "execution_count": 5,
   "metadata": {},
   "outputs": [
    {
     "name": "stdout",
     "output_type": "stream",
     "text": [
      "t-critical value:\n",
      "2.0638985616280205\n"
     ]
    }
   ],
   "source": [
    "# Calculate the t-critical value for 95% confidence level for sample taken above. \n",
    "t_critical = stats.t.ppf(0.975, sample_size-1)   # Get the t-critical value  by using 95% confidence level and degree of freedom\n",
    "print(\"t-critical value:\")                  # Check the t-critical value\n",
    "print(t_critical)     \n",
    "\n",
    "# t-critical value:\n",
    "# 2.0638985616280205"
   ]
  },
  {
   "cell_type": "markdown",
   "metadata": {},
   "source": [
    "Calculate the confidence interval of the sample by sigma and calculating the margin of error as:\n",
    "> **sigma = sample_std/√n**\n",
    "\n",
    "> **Margin of Error = t-critical-value * sigma**\n",
    "\n",
    "and finally the confidence interval can be calculated as : \n",
    "\n",
    "> **Confidence interval = (sample_mean - margin of error, sample_mean + margin of error)**"
   ]
  },
  {
   "cell_type": "code",
   "execution_count": 7,
   "metadata": {},
   "outputs": [
    {
     "name": "stdout",
     "output_type": "stream",
     "text": [
      "Confidence interval:\n",
      "(18.4609156900928, 21.280661568850913)\n"
     ]
    }
   ],
   "source": [
    "# Calculate the sample standard deviation\n",
    "sample_stdev = sample.std()    # Get the sample standard deviation\n",
    "\n",
    "# Calculate sigma using the formula described above to get population standard deviation estimate\n",
    "sigma = sample_stdev/np.sqrt(sample_size)\n",
    "\n",
    "# Calculate margin of error using t_critical and sigma\n",
    "margin_of_error = t_critical * sigma\n",
    "\n",
    "# Calculate the confidence intervals using calculated margin of error \n",
    "confidence_interval = (sample_mean - margin_of_error, sample_mean + margin_of_error)\n",
    "\n",
    "\n",
    "print(\"Confidence interval:\")\n",
    "print(confidence_interval)\n",
    "\n",
    "# Confidence interval:\n",
    "# (18.4609156900928, 21.280661568850913)"
   ]
  },
  {
   "cell_type": "markdown",
   "metadata": {},
   "source": [
    "We can verify our calculations by using the Python function `stats.t.interval()`:"
   ]
  },
  {
   "cell_type": "code",
   "execution_count": 8,
   "metadata": {},
   "outputs": [
    {
     "data": {
      "text/plain": [
       "(18.4609156900928, 21.280661568850913)"
      ]
     },
     "execution_count": 8,
     "metadata": {},
     "output_type": "execute_result"
    }
   ],
   "source": [
    "stats.t.interval(alpha = 0.95,              # Confidence level\n",
    "                 df= 24,                    # Degrees of freedom\n",
    "                 loc = sample_mean,         # Sample mean\n",
    "                 scale = sigma)             # Standard deviation estimate\n",
    "# (18.4609156900928, 21.280661568850913)"
   ]
  },
  {
   "cell_type": "markdown",
   "metadata": {},
   "source": [
    "We can see that the calculated confidence interval includes the population mean calculated above.\n",
    "\n",
    "Let's run the code multiple times to see how often our estimated confidence interval covers the population mean value:\n",
    "\n",
    "**Write a function using the code above that takes in sample data and returns confidence intervals**\n",
    "\n"
   ]
  },
  {
   "cell_type": "code",
   "execution_count": 12,
   "metadata": {},
   "outputs": [],
   "source": [
    "# Function to take in sample data and calculate the confidence interval\n",
    "def conf_interval(sample):\n",
    "    '''\n",
    "    Input:  sample \n",
    "    Output: Confidence interval\n",
    "    '''\n",
    "    n = len(sample)\n",
    "    x_hat = sample.mean()\n",
    "    # Calculate the z-critical value using stats.norm.ppf()\n",
    "    # Note that we use stats.t.ppf with q = 0.975 to get the desired t-critical value \n",
    "    # instead of q = 0.95 because the distribution has two tails.\n",
    "\n",
    "    t = stats.t.ppf(0.95, df=n-1)  #  t-critical value for 95% confidence\n",
    "    \n",
    "    sigma = sample.std() # Sample standard deviation\n",
    "\n",
    "    # Calculate the margin of error using formula given above\n",
    "    moe = t * sigma\n",
    "\n",
    "    # Calculate the confidence interval by applying margin of error to sample mean \n",
    "    # (mean - margin of error, mean+ margin of error)\n",
    "    conf = (x_hat - moe, x_hat + moe)\n",
    "    \n",
    "    return conf"
   ]
  },
  {
   "cell_type": "markdown",
   "metadata": {},
   "source": [
    "**Call the function 25 times taking different samples at each iteration and calculating the sample mean and confidence intervals**"
   ]
  },
  {
   "cell_type": "code",
   "execution_count": 14,
   "metadata": {},
   "outputs": [
    {
     "name": "stdout",
     "output_type": "stream",
     "text": [
      "[(15.744880519385895, 25.335318675884984), (14.393052000839237, 26.512003854455717), (15.241070578810334, 27.556773543983876), (14.597226952781222, 27.052493122494518), (15.076850465377827, 27.04423400225104), (16.094310908402313, 25.861956215826787), (14.298060799083071, 27.09626292987546), (15.713111916400319, 25.68566399635068), (16.047313420302167, 26.775924621921398), (16.22666880616164, 25.25098807708342), (15.18936474777576, 27.20046648739423), (13.317927840734786, 28.404809718263618), (12.952950413072443, 25.139528767032864), (15.956241961267429, 26.12387658145419), (15.308780954592844, 28.036407365751533), (13.121324501524466, 27.460002862945647), (14.92308997399235, 27.46784561436412), (14.803633889611948, 28.292661639496632), (15.855318102038876, 26.13323675182907), (13.582868638446145, 26.253563642135802), (16.33866655975716, 26.160430134807296), (15.935870104827778, 26.716216351213546), (14.202859876501435, 25.97500366380625), (15.667603443038587, 25.377966391332713), (14.295050453517508, 28.682151501316884)]\n",
      "[20.54009959763544, 20.452527927647477, 21.398922061397105, 20.82486003763787, 21.060542233814434, 20.97813356211455, 20.697161864479266, 20.6993879563755, 21.411619021111783, 20.73882844162253, 21.194915617584996, 20.8613687794992, 19.046239590052654, 21.04005927136081, 21.67259416017219, 20.290663682235056, 21.195467794178235, 21.54814776455429, 20.994277426933973, 19.918216140290973, 21.24954834728223, 21.326043228020662, 20.08893177015384, 20.52278491718565, 21.488600977417196]\n"
     ]
    }
   ],
   "source": [
    "#set random seed for reproducability\n",
    "np.random.seed(12)\n",
    "\n",
    "# Select the sample size \n",
    "sample_size = 25\n",
    "\n",
    "# Initialize lists to store interval and mean values\n",
    "intervals = []\n",
    "sample_means = []\n",
    "\n",
    "# Run a for loop for sampling 25 times and calculate + store confidence interval and sample mean values in lists initialised above\n",
    "\n",
    "for sample in range(25):\n",
    "\n",
    "    # Take a random sample of chosen size \n",
    "    new_sample = np.random.choice(population_ages, sample_size)\n",
    "    \n",
    "    # Calculate sample mean and confidence_interval\n",
    "    new_sample_mean = new_sample.mean()\n",
    "    new_sample_conf = conf_interval(new_sample)\n",
    "  \n",
    "    # Calculate and append sample means and conf intervals for each iteration\n",
    "    intervals.append(new_sample_conf)\n",
    "    sample_means.append(new_sample_mean)\n",
    "\n",
    "print(intervals)\n",
    "print(sample_means)"
   ]
  },
  {
   "cell_type": "markdown",
   "metadata": {},
   "source": [
    "**Plot the confidence intervals along with the sample means and population mean**"
   ]
  },
  {
   "cell_type": "code",
   "execution_count": 17,
   "metadata": {},
   "outputs": [
    {
     "data": {
      "text/plain": [
       "<matplotlib.collections.LineCollection at 0x1a18e39c50>"
      ]
     },
     "execution_count": 17,
     "metadata": {},
     "output_type": "execute_result"
    },
    {
     "data": {
      "image/png": "[encoded data removed]",
      "text/plain": [
       "<Figure size 1080x648 with 1 Axes>"
      ]
     },
     "metadata": {
      "needs_background": "light"
     },
     "output_type": "display_data"
    }
   ],
   "source": [
    "# Plot the confidence intervals with sample and population means\n",
    "plt.figure(figsize=(15,9))\n",
    "\n",
    "# Draw the mean and confidence interval for each sample\n",
    "plt.errorbar(x=np.arange(0.1, 25, 1), \n",
    "             y=sample_means, \n",
    "             yerr=[(top-bot)/2 for top,bot in intervals],\n",
    "             fmt='o')\n",
    "\n",
    "# Draw the population mean \n",
    "plt.hlines(xmin=0, xmax=25,\n",
    "           y=population_ages.mean(), \n",
    "           linewidth=2.0,\n",
    "           color=\"red\")"
   ]
  },
  {
   "cell_type": "code",
   "execution_count": null,
   "metadata": {},
   "outputs": [],
   "source": []
  },
  {
   "cell_type": "markdown",
   "metadata": {},
   "source": [
    "Just like the last lab, all but one of the 95% confidence intervals overlap the red line marking the true mean. This is to be expected: since a 95% confidence interval captures the true mean 95% of the time, we'd expect our interval to miss the true mean 5% of the time."
   ]
  },
  {
   "cell_type": "markdown",
   "metadata": {},
   "source": [
    "## Summary\n",
    "\n",
    "In this lab, we learned how to use confidence intervals when the population standard deviation is not known, and the sample size is small (<30). We also saw how to construct them from random samples. We also learned the differences between the use cases for the $z$-score and t-distribution. We also saw how the t-value can be used to define the confidence interval based on the confidence level. "
   ]
  }
 ],
 "metadata": {
  "kernelspec": {
   "display_name": "Python 3",
   "language": "python",
   "name": "python3"
  },
  "language_info": {
   "codemirror_mode": {
    "name": "ipython",
    "version": 3
   },
   "file_extension": ".py",
   "mimetype": "text/x-python",
   "name": "python",
   "nbconvert_exporter": "python",
   "pygments_lexer": "ipython3",
   "version": "3.7.3"
  },
  "toc": {
   "base_numbering": 1,
   "nav_menu": {},
   "number_sections": true,
   "sideBar": true,
   "skip_h1_title": false,
   "title_cell": "Table of Contents",
   "title_sidebar": "Contents",
   "toc_cell": false,
   "toc_position": {},
   "toc_section_display": true,
   "toc_window_display": false
  }
 },
 "nbformat": 4,
 "nbformat_minor": 4
}
